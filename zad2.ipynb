{
 "cells": [
  {
   "cell_type": "code",
   "execution_count": 1,
   "id": "faa25d36-6636-496d-bec4-d1633db0a89a",
   "metadata": {},
   "outputs": [],
   "source": [
    "import pandas as pd\n",
    "import numpy as np\n",
    "df = pd.read_csv(\"IHME_GBD_2019_SMOKING_TOB_1990_2019_PCT_CHANGE_Y2021M05D27.csv\")"
   ]
  },
  {
   "cell_type": "code",
   "execution_count": 2,
   "id": "d5008ffd-07ea-4ee5-bec5-e3386c6734f8",
   "metadata": {},
   "outputs": [
    {
     "name": "stdout",
     "output_type": "stream",
     "text": [
      "Mean: 0.22065143288698139\n"
     ]
    }
   ],
   "source": [
    "# 1. Srednia arytmetyczna (Mean)\n",
    "mean_val = df[\"val\"].mean()\n",
    "print(f\"Mean: {mean_val}\")"
   ]
  },
  {
   "cell_type": "code",
   "execution_count": 3,
   "id": "ec14cbc1-66d0-4d0a-bce6-d27d2c1fb007",
   "metadata": {},
   "outputs": [
    {
     "name": "stdout",
     "output_type": "stream",
     "text": [
      "Median: -0.032985602\n"
     ]
    }
   ],
   "source": [
    "# 2. Mediana (Median)\n",
    "median_val = df[\"val\"].median()\n",
    "print(f\"Median: {median_val}\")"
   ]
  },
  {
   "cell_type": "code",
   "execution_count": 4,
   "id": "cac43266-04e2-40b6-aa40-f7a0d34bed27",
   "metadata": {},
   "outputs": [
    {
     "name": "stdout",
     "output_type": "stream",
     "text": [
      "Variance: 0.7236544959359432\n"
     ]
    }
   ],
   "source": [
    "# 3. Odchylenie standardowe (Standard Deviation)\n",
    "var_val = df[\"val\"].var()\n",
    "print(f\"Variance: {var_val}\")"
   ]
  },
  {
   "cell_type": "code",
   "execution_count": 5,
   "id": "8ef1ef66-729e-46bc-9646-e0fef44b014f",
   "metadata": {},
   "outputs": [
    {
     "name": "stdout",
     "output_type": "stream",
     "text": [
      "Correlation with 'upper': 0.9822704797677273\n"
     ]
    }
   ],
   "source": [
    "# 4. Wariancja (Variance)\n",
    "corr_with_upper = df[\"val\"].corr(df[\"upper\"])\n",
    "print(f\"Correlation with 'upper': {corr_with_upper}\")"
   ]
  },
  {
   "cell_type": "code",
   "execution_count": 6,
   "id": "b731cadf-9411-4f9e-9836-af514e95566f",
   "metadata": {},
   "outputs": [
    {
     "name": "stdout",
     "output_type": "stream",
     "text": [
      "Correlation with 'lower': 0.9786188684117861\n"
     ]
    }
   ],
   "source": [
    "# 5. Korelacja (Correlation)\n",
    "corr_with_lower = df[\"val\"].corr(df[\"lower\"])\n",
    "print(f\"Correlation with 'lower': {corr_with_lower}\")"
   ]
  },
  {
   "cell_type": "code",
   "execution_count": 7,
   "id": "4c30f6ff-5315-4d67-a482-b447d09e9d4a",
   "metadata": {},
   "outputs": [
    {
     "name": "stdout",
     "output_type": "stream",
     "text": [
      "Covariance with 'upper': 0.9037165757920188\n",
      "Covariance with 'lower': 0.5767570756746789\n"
     ]
    }
   ],
   "source": [
    "# 6. Kowariancja (Covariance)\n",
    "cov_with_upper = df[\"val\"].cov(df[\"upper\"])\n",
    "print(f\"Covariance with 'upper': {cov_with_upper}\")\n",
    "\n",
    "cov_with_lower = df[\"val\"].cov(df[\"lower\"])\n",
    "print(f\"Covariance with 'lower': {cov_with_lower}\")"
   ]
  },
  {
   "cell_type": "code",
   "execution_count": null,
   "id": "a19ab9d6-3b13-4ce3-98a5-c9a1f82acd64",
   "metadata": {},
   "outputs": [],
   "source": []
  }
 ],
 "metadata": {
  "kernelspec": {
   "display_name": "Python 3 (ipykernel)",
   "language": "python",
   "name": "python3"
  },
  "language_info": {
   "codemirror_mode": {
    "name": "ipython",
    "version": 3
   },
   "file_extension": ".py",
   "mimetype": "text/x-python",
   "name": "python",
   "nbconvert_exporter": "python",
   "pygments_lexer": "ipython3",
   "version": "3.12.1"
  }
 },
 "nbformat": 4,
 "nbformat_minor": 5
}
